{
 "cells": [
  {
   "cell_type": "code",
   "execution_count": 48,
   "metadata": {},
   "outputs": [],
   "source": [
    "import numpy as np\n",
    "import pandas as pd\n",
    "from matplotlib import pyplot as plt"
   ]
  },
  {
   "cell_type": "code",
   "execution_count": 49,
   "metadata": {},
   "outputs": [],
   "source": [
    "from tarfile import data_filter\n",
    "\n",
    "\n",
    "data = pd.read_csv('train.csv')\n",
    "data.sort_values('label')\n",
    "data.head()\n",
    "\n",
    "data_test = pd.read_csv('test.csv')\n",
    "\n",
    "\n"
   ]
  },
  {
   "cell_type": "code",
   "execution_count": 50,
   "metadata": {},
   "outputs": [
    {
     "data": {
      "text/plain": [
       "array([[0.23921569, 1.        , 0.2       , ..., 0.60784314, 0.        ,\n",
       "        0.54509804],\n",
       "       [0.18823529, 1.        , 0.54117647, ..., 0.62745098, 0.        ,\n",
       "        0.5372549 ],\n",
       "       [0.29019608, 1.        , 0.5372549 , ..., 0.61960784, 0.01568627,\n",
       "        0.54509804],\n",
       "       ...,\n",
       "       [0.43921569, 1.        , 0.40784314, ..., 0.59215686, 0.        ,\n",
       "        0.54117647],\n",
       "       [0.40784314, 1.        , 0.40392157, ..., 0.61568627, 0.        ,\n",
       "        0.53333333],\n",
       "       [0.43529412, 1.        , 0.39607843, ..., 0.56078431, 0.        ,\n",
       "        0.55686275]])"
      ]
     },
     "execution_count": 50,
     "metadata": {},
     "output_type": "execute_result"
    }
   ],
   "source": [
    "data = np.array(data)\n",
    "m, n = data.shape\n",
    "np.random.shuffle(data)\n",
    "\n",
    "data_test = np.array(data_test)\n",
    "j, k = data_test.shape\n",
    "\n",
    "Y_test = data_test[0]\n",
    "X_test = data_test[1:k]\n",
    "X_test = X_test / 255.\n",
    "\n",
    "data_train = data.T\n",
    "X_train = data_train[1:n]\n",
    "Y_train = data_train[0]\n",
    "X_train = X_train / 255.\n",
    "_,m_train = X_train.shape\n",
    "X_train"
   ]
  },
  {
   "cell_type": "code",
   "execution_count": 51,
   "metadata": {},
   "outputs": [],
   "source": [
    "def init_params():\n",
    "    W1 = np.random.rand(10, 784) - 0.5\n",
    "    b1 = np.random.rand(10, 1) - 0.5\n",
    "    W2 = np.random.rand(10, 10) - 0.5\n",
    "    b2 = np.random.rand(10, 1) - 0.5\n",
    "    return W1, b1, W2, b2\n",
    "\n",
    "def ReLU(Z):\n",
    "    return np.maximum(Z, 0)\n",
    "\n",
    "def softmax(Z):\n",
    "    smax = np.exp(Z) / sum(np.exp(Z))\n",
    "    return smax\n",
    "\n",
    "def forward_prop(W1, b1, W2, b2, X):\n",
    "    Z1 = W1.dot(X) + b1\n",
    "    A1 = ReLU(Z1)\n",
    "    Z2 = W2.dot(A1) + b2\n",
    "    A2 = softmax(Z2)\n",
    "    return Z1, A1, Z2, A2\n",
    "\n",
    "def deriv_ReLU(Z):\n",
    "    return Z > 0\n",
    "\n",
    "def one_hot(Y):\n",
    "    one_hot_Y = np.zeros((Y.size, Y.max() +1))\n",
    "    one_hot_Y[np.arange(Y.size), Y] = 1\n",
    "    one_hot_Y = one_hot_Y.T\n",
    "    return one_hot_Y\n",
    "\n",
    "def back_prop(Z1, A1, Z2, A2, W2, X, Y):\n",
    "    one_hot_Y = one_hot(Y)\n",
    "    dZ2 = A2 - one_hot_Y\n",
    "    dW2 = 1 / m * dZ2.dot(A1.T)\n",
    "    db2 = 1 / m * np.sum(dZ2)\n",
    "    dZ1 = W2.T.dot(dZ2) * deriv_ReLU(Z1)\n",
    "    dW1 = 1 / m * dZ1.dot(X.T)\n",
    "    db1 = 1 / m * np.sum(dZ1)\n",
    "    return dW1, db1, dW2, db2\n",
    "\n",
    "def update_params(W1, b1, W2, b2, dW1, db1, dW2, db2, alpha):\n",
    "    W1 = W1 - alpha * dW1\n",
    "    b1 = b1 - alpha * db1\n",
    "    W2 = W2 - alpha * dW2\n",
    "    b2 = b2 - alpha * db2\n",
    "    return W1, b1, W2, b2  \n",
    "    "
   ]
  },
  {
   "cell_type": "code",
   "execution_count": 52,
   "metadata": {},
   "outputs": [],
   "source": [
    "def get_predictions(A2):\n",
    "    return np.argmax(A2, 0)\n",
    "\n",
    "def get_accuracy(predictions, Y):\n",
    "    print(predictions, Y)\n",
    "    return np.sum(predictions == Y) / Y.size\n",
    "\n",
    "def gradient_descent(X, Y, iterations, alpha):\n",
    "    W1, b1, W2, b2 = init_params()\n",
    "    for i in range(iterations):\n",
    "        Z1, A1, Z2, A2 = forward_prop(W1, b1, W2, b2, X)\n",
    "        dW1, db1, dW2, db2 = back_prop(Z1, A1, Z2, A2, W2, X, Y)\n",
    "        W1, b1, W2, b2 = update_params(W1, b1, W2, b2, dW1, db1, dW2, db2, alpha)\n",
    "        if i % 500 == 0:\n",
    "            print(\"Iteration: \", i)\n",
    "            predictions = get_predictions(A2)\n",
    "            print(\"Accuracy: \", get_accuracy(predictions, Y))\n",
    "    return W1, b1, W2, b2"
   ]
  },
  {
   "cell_type": "code",
   "execution_count": 53,
   "metadata": {},
   "outputs": [
    {
     "name": "stdout",
     "output_type": "stream",
     "text": [
      "Iteration:  0\n",
      "[4 4 4 ... 4 5 4] [0 3 8 ... 1 7 6]\n",
      "Accuracy:  0.1025\n"
     ]
    }
   ],
   "source": [
    "W1, b1, W2, b2 = gradient_descent(X_train, Y_train, 10, 0.1)"
   ]
  },
  {
   "cell_type": "code",
   "execution_count": 54,
   "metadata": {},
   "outputs": [],
   "source": [
    "def make_predictions(X, W1, b1, W2, b2):\n",
    "    _, _, _, A2 = forward_prop(W1, b1, W2, b2, X)\n",
    "    predictions = get_predictions(A2)\n",
    "    return predictions\n",
    "\n",
    "def test_prediction(index, W1, b1, W2, b2):\n",
    "    map = {\n",
    "        0: 'bart simpson',\n",
    "        1: 'charles montgomery_burns',\n",
    "        2: 'homer simpson',\n",
    "        3: 'krusty the clown',\n",
    "        4: 'lisa simpson',\n",
    "        5: 'marge simpson',\n",
    "        6: 'milhouse van houten',\n",
    "        7: 'moe szyslak',\n",
    "        8: 'ned flanders',\n",
    "        9: 'principal skinner'\n",
    "    }\n",
    "    \n",
    "    current_image = X_train[:, index, None]\n",
    "    prediction = make_predictions(X_train[:, index, None], W1, b1, W2, b2)\n",
    "    label = Y_train[index]\n",
    "    print(\"Prediction: \", map[prediction[0]])\n",
    "    print(\"Label: \", map[label])\n",
    "    \n",
    "    current_image = current_image.reshape((28, 28)) * 255\n",
    "    plt.gray()\n",
    "    plt.imshow(current_image, interpolation='nearest')\n",
    "    plt.show()"
   ]
  },
  {
   "cell_type": "code",
   "execution_count": 55,
   "metadata": {},
   "outputs": [
    {
     "name": "stdout",
     "output_type": "stream",
     "text": [
      "Prediction:  milhouse van houten\n",
      "Label:  bart simpson\n"
     ]
    },
    {
     "data": {
      "image/png": "[encoded data removed]",
      "text/plain": [
       "<Figure size 640x480 with 1 Axes>"
      ]
     },
     "metadata": {},
     "output_type": "display_data"
    },
    {
     "name": "stdout",
     "output_type": "stream",
     "text": [
      "Prediction:  krusty the clown\n",
      "Label:  krusty the clown\n"
     ]
    },
    {
     "data": {
      "image/png": "[encoded data removed]",
      "text/plain": [
       "<Figure size 640x480 with 1 Axes>"
      ]
     },
     "metadata": {},
     "output_type": "display_data"
    },
    {
     "name": "stdout",
     "output_type": "stream",
     "text": [
      "Prediction:  moe szyslak\n",
      "Label:  ned flanders\n"
     ]
    },
    {
     "data": {
      "image/png": "[encoded data removed]",
      "text/plain": [
       "<Figure size 640x480 with 1 Axes>"
      ]
     },
     "metadata": {},
     "output_type": "display_data"
    },
    {
     "name": "stdout",
     "output_type": "stream",
     "text": [
      "Prediction:  principal skinner\n",
      "Label:  krusty the clown\n"
     ]
    },
    {
     "data": {
      "image/png": "[encoded data removed]",
      "text/plain": [
       "<Figure size 640x480 with 1 Axes>"
      ]
     },
     "metadata": {},
     "output_type": "display_data"
    }
   ],
   "source": [
    "test_prediction(0, W1, b1, W2, b2)\n",
    "test_prediction(1, W1, b1, W2, b2)\n",
    "test_prediction(2, W1, b1, W2, b2)\n",
    "test_prediction(3, W1, b1, W2, b2)"
   ]
  },
  {
   "cell_type": "code",
   "execution_count": 56,
   "metadata": {},
   "outputs": [
    {
     "name": "stdout",
     "output_type": "stream",
     "text": [
      "[1 8 5 5 5 8 3 3 3 5 3 8 3 5 3 3 3 3 3 3 8 1 8 7 8 9 7 3 3 3 5 5 5 5 3 3 3\n",
      " 8 8 8 1 1 8 8 1 1 1 8 1 1 1 1 6 1 3 3 9 8 8 5 3 5 3 3 3 4 1 8 1 1 8 1 1 8\n",
      " 8 3 5 8 8 8 8 3 8 8 8 5 5 5 3 8 3 3 8 8 1 8 7 6 6 1 8 1 1 8 8 8 8 8 8 5 8\n",
      " 8 8 1 3 1 1 8 3 4 8 3 8 5 8 1 3 8 7 8 8 8 8 8 8 8 5 5 8 8 7 1 6 1 1 8 5 5\n",
      " 5 5 3 5 8 8 8 8 8 8 8 5 8 8 8 7 7 8 7 7 7 1 1 1 1 3 3 3 3 8 5 3 8 8 8 8 8\n",
      " 1 8 8 8 8 8 3 6 8 8 8 8 8 8 1 3 8 8 8 8 3 3 1 8 1 7 7 6 1 8 8 5 8 3 0 8 1\n",
      " 8 8 8 8 8 8 8 5 3 3 8 5 1 1 1 1 1 4 6 3 8 5 8 3 1 6 8 8 7 7 1 8 5 8 6 8 5\n",
      " 5 5 5 6 6 6 1 6 6 2 6 6 6 6 5 3 2 3 2 7 8 1 8 8 8 8 5 5 7 7 7 3 6 2 6 6 2\n",
      " 2 6 6 6 6 6 2 3 8 3 3 8 4 8 8 8 1 2 1 3 5 8 2 6 6 6 1 2 2 1 6 9 3 3 3 3 5\n",
      " 3 6 1 1 8 5 5 5 5 3 3 8 5 6 6 6 6 6 2 7 6 6 4 6 3 3 3 2 6 6 8 6 3 8 8 6 8\n",
      " 1 3 2 5 2 2 2 6 6 2 2 2 6 9 1 2 7 3 5 7 0 1 1 8 1 5 6 6 3 3 3 3 8 1 2 2 2\n",
      " 6 2 2 3 9 8 3 7 9 7 2 7 7 1 2 6 1 0 6 6 3 3 3 3 1 2 6 1 2 7 3 3 8 3 8 6 6\n",
      " 7 2 8 6 8 8 6 6 6 8 6 8 6 3 3 1 3 2 6 6 2 7 6 3 3 7 2 1 7 7 7 7 8 3 6 1 6\n",
      " 5 3 3 6 8 3 3 3 1 7 3 3 6 1 3 8 7 1 8 9 7 7 7 4 8 6 8 1 3 7 3 6 3 3 6 2 5\n",
      " 3 3 3 1 1 8 5 8 8 8 7 7 7 7 8 8 6 1 8 5 4 3 3 3 3 0 3 5 3 5 1 7 3 5 7 5 8\n",
      " 8 7 2 7 7 7 8 7 1 6 8 7 3 3 3 3 5 5 8 5 5 5 4 3 5 2 3 8 7 7 6 8 7 7 8 3 3\n",
      " 2 7 8 3 3 6 6 5 3 8 8 5 5 5 5 5 6 6 1 2 7 8 1 1 1 1 8 3 6 3 3 3 3 5 5 5 5\n",
      " 5 8 5 5 6 5 8 6 6 3 7 7 6 6 6 1 1 1 1 1 3 3 3 3 3 5 5 5 5 8 5 5 0 6 6 6 6\n",
      " 1 6 3 6 6 6 6 1 8 3 1 8 5 8 8 8 5 5 4 1 8 8 8 5 0 6 6 3 6 6 6 6 6 6 6 8 1\n",
      " 1 1 3 5 5 1 5 5 3 1 5 5 5 5 5 1 0 6 8 6 2 2 6 6 6 6 5 3 8 3 3 3 3 6 1 6 6\n",
      " 6 6 8 1 3 6 1 6 6 6 6 6 2 2 6 6 6 8 8 8 8 5 5 5 8 1 1 1 1 1 3 8 1 6 1 6 6\n",
      " 3 1 6 8 6 6 6 6] [  2  75  76  71  76  70  73  46 144  78  76  81  78  79  82  77  73  65\n",
      " 168 164 161 152 159 159 157 159 155 154 157 112  57  73  71  75  76  76\n",
      "  73  74  80  78  77  79  79  74  78 174 177 114 131 147 128 158 160 154\n",
      " 153 154 155 177 179 175 176 171 174 164 176 130  59  77  80  80  75 120\n",
      " 179 185 184 177 181 138 153 161 157 152 154 156 156 171 178 174 172 180\n",
      " 175 173 176 175 176 184 179 178 181 175 182 179 177 184 178 152 159 152\n",
      " 159 151 153 155 154 172 176 172 174 173 173 170 174 176 178 176 176 175\n",
      " 178 179 178 183 180 183 177 175 162 159 158 154 154 154 153 173 169 175\n",
      " 174 170 173 176 173 172 180 178 178 181 183 178 187 179 180 177 180 181\n",
      " 176 153 159 158 156 154 153 175 173 173 173 172 175 174 174 173 180 174\n",
      " 179 206 179 182 177 179 180 181 184 178 183 170 157 157 154 151 152 177\n",
      " 175 173 175 173 172 173 175 174 178 173 179 188 188 181 180 180 181 178\n",
      " 180 181 181 146 160 158 154 152 153 178 178 177 175 175 177 178 178 172\n",
      " 179 176 173 204 216 182 181 180 180 182 181 176 182 161 156 157 154 152\n",
      " 153 177 177 177 175 175 177 177 176 180 177 179 229 216 213 136 211 216\n",
      " 180 181 181 182 193 159 161 158 157 155 155 177 178 178 177 177 177 177\n",
      " 176 173 180 183 216 206 213 204 209 207 212 179 181 180 138 156 154 156\n",
      " 156 156 156 179 179 179 178 177 177 178 177 180 178 171 220 211 217 217\n",
      " 204 206 207 181 179 178 162 157 163 159 159 158 158 179 179 178 176 175\n",
      " 176 177 177 178 180 173 189 183 191 211 205 206 216 179 158 173 165 156\n",
      " 158 158 157 154 153 179 179 178 176 175 176 177 178 180 174 181 188 187\n",
      " 188 212 211 209 209 184 122 150 159 165 157 160 158 155 153 178 180 180\n",
      " 178 176 177 178 178 177 183 150 152 188 188 180 158 204 184 185 121 125\n",
      " 163 164 159 157 156 154 152 178 180 180 179 178 178 179 178 178 176 152\n",
      " 154 147 149 107 180 182 179 157 126 162 163 162 161 158 159 158 155 179\n",
      " 179 181 177 172 181 177 173 176 150 148 153 153 154 146 141 181 183 186\n",
      " 177 163 164 163 157 158 157 156 153 174 184 174 180 180 172 176 180 179\n",
      " 146 155 152 152 154 150 145 187 188 173 180 162 162 163 161 157 162 159\n",
      " 160 180 180 180 177 177 181 176 180 183 163 135 152 152 145 156 152 131\n",
      " 187 140 162 165 161 163 160 159 155 152 156 178 178 178 180 179 181 184\n",
      " 179 180 177 181 183 157   2 128 147 147 180 184 163 162 166 164 158 159\n",
      " 161 161 157 175 179 180 181 178 177 176 184 183 181 178 179 142   0  27\n",
      "  16 142 188 177 164 159 165 163 165 160 158 158 162 181 174 180 179 170\n",
      " 112 181 177 182 179 184 179 138 164 163 176 104 182 183 162 166 162 161\n",
      " 163 165 157 161 161 178 174 176 111 109 109 102 108 177 180 175 179 152\n",
      " 150 146 147 192 181 178 164 164 162 163 165 165 162 159 161 178 179 184\n",
      " 113 112 114 115 102 177 178 179 182 177 142 140  97 181 179 180 101 158\n",
      " 170 161 161 161 138 108 158 178 177 179 114 116 119 116 114 175 180 178\n",
      " 181 170 184 191 179 180 182 152 214  45  11   5   7   5   6   0   4 178\n",
      " 177 179 114 115 119 115 114 180 176 178 177 196 180 180 179 211 214 214\n",
      " 215 143   4   4   8   8   9   0   4 178 177 179 114 115 118 115 113 180\n",
      " 179 176 174 208 185 178 211 206 204 211 215 213   5   9   5  12  12   1\n",
      "   4 178 177 179 114 115 117 114 113 178 170 183 132 202 146 163 205 209\n",
      " 210 210 179 205 221   0  20  14  12   2   4]\n",
      "Accuracy:  0.0012738853503184713\n"
     ]
    }
   ],
   "source": [
    "test_predictions = make_predictions(X_test, W1, b1, W2, b2)\n",
    "accuracy = get_accuracy(test_predictions, Y_test)\n",
    "print(\"Accuracy: \",accuracy)\n"
   ]
  },
  {
   "cell_type": "markdown",
   "metadata": {},
   "source": [
    "# Bonus Task"
   ]
  },
  {
   "cell_type": "code",
   "execution_count": null,
   "metadata": {},
   "outputs": [],
   "source": []
  }
 ],
 "metadata": {
  "kernelspec": {
   "display_name": "Python 3",
   "language": "python",
   "name": "python3"
  },
  "language_info": {
   "codemirror_mode": {
    "name": "ipython",
    "version": 3
   },
   "file_extension": ".py",
   "mimetype": "text/x-python",
   "name": "python",
   "nbconvert_exporter": "python",
   "pygments_lexer": "ipython3",
   "version": "3.11.6"
  }
 },
 "nbformat": 4,
 "nbformat_minor": 2
}
