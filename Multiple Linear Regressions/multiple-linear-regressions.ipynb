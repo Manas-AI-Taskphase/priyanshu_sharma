{
 "cells": [
  {
   "cell_type": "code",
   "execution_count": 16,
   "metadata": {},
   "outputs": [],
   "source": [
    "# Importing libraries\n",
    "import pandas as pd\n",
    "import numpy as np\n",
    "import matplotlib.pyplot as plt"
   ]
  },
  {
   "cell_type": "code",
   "execution_count": 17,
   "metadata": {},
   "outputs": [],
   "source": [
    "# Importing the data set\n",
    "train = pd.read_csv('train.csv')\n",
    "test = pd.read_csv('test.csv')\n",
    "test = test.drop(\"SalePrice\", axis=1)\n",
    "mean = train.mean()\n",
    "std = train.std()\n",
    "train = (train - mean) / std\n",
    "test = (test - mean.drop(\"SalePrice\")) / std.drop(\"SalePrice\")"
   ]
  },
  {
   "cell_type": "code",
   "execution_count": 44,
   "metadata": {},
   "outputs": [
    {
     "name": "stdout",
     "output_type": "stream",
     "text": [
      "Epoch: 0\n",
      "MSE: 0\n",
      "Epoch: 50\n",
      "MSE: [74204.53384177 74204.53384177 74204.53384177 74204.53384177\n",
      " 74204.53384177 74204.53384177 74204.53384177 74204.53384177\n",
      " 74204.53384177 74204.53384177]\n",
      "Epoch: 100\n",
      "MSE: [68685.522171 68685.522171 68685.522171 68685.522171 68685.522171\n",
      " 68685.522171 68685.522171 68685.522171 68685.522171 68685.522171]\n",
      "Epoch: 150\n",
      "MSE: [63524.75545266 63524.75545266 63524.75545266 63524.75545266\n",
      " 63524.75545266 63524.75545266 63524.75545266 63524.75545266\n",
      " 63524.75545266 63524.75545266]\n",
      "Epoch: 200\n",
      "MSE: [58712.66911843 58712.66911843 58712.66911843 58712.66911843\n",
      " 58712.66911843 58712.66911843 58712.66911843 58712.66911843\n",
      " 58712.66911843 58712.66911843]\n",
      "Epoch: 250\n",
      "MSE: [54239.91246888 54239.91246888 54239.91246888 54239.91246888\n",
      " 54239.91246888 54239.91246888 54239.91246888 54239.91246888\n",
      " 54239.91246888 54239.91246888]\n",
      "Epoch: 300\n",
      "MSE: [50097.34419704 50097.34419704 50097.34419704 50097.34419704\n",
      " 50097.34419704 50097.34419704 50097.34419704 50097.34419704\n",
      " 50097.34419704 50097.34419704]\n",
      "Epoch: 350\n",
      "MSE: [46276.02800288 46276.02800288 46276.02800288 46276.02800288\n",
      " 46276.02800288 46276.02800288 46276.02800288 46276.02800288\n",
      " 46276.02800288 46276.02800288]\n",
      "Epoch: 400\n",
      "MSE: [42767.228297 42767.228297 42767.228297 42767.228297 42767.228297\n",
      " 42767.228297 42767.228297 42767.228297 42767.228297 42767.228297]\n",
      "Epoch: 450\n",
      "MSE: [39562.4059917 39562.4059917 39562.4059917 39562.4059917 39562.4059917\n",
      " 39562.4059917 39562.4059917 39562.4059917 39562.4059917 39562.4059917]\n",
      "Epoch: 500\n",
      "MSE: [36653.21437774 36653.21437774 36653.21437774 36653.21437774\n",
      " 36653.21437774 36653.21437774 36653.21437774 36653.21437774\n",
      " 36653.21437774 36653.21437774]\n",
      "Epoch: 550\n",
      "MSE: [34031.49508495 34031.49508495 34031.49508495 34031.49508495\n",
      " 34031.49508495 34031.49508495 34031.49508495 34031.49508495\n",
      " 34031.49508495 34031.49508495]\n",
      "Epoch: 600\n",
      "MSE: [31689.27412514 31689.27412514 31689.27412514 31689.27412514\n",
      " 31689.27412514 31689.27412514 31689.27412514 31689.27412514\n",
      " 31689.27412514 31689.27412514]\n",
      "Epoch: 650\n",
      "MSE: [29618.75801558 29618.75801558 29618.75801558 29618.75801558\n",
      " 29618.75801558 29618.75801558 29618.75801558 29618.75801558\n",
      " 29618.75801558 29618.75801558]\n",
      "Epoch: 700\n",
      "MSE: [27812.32998143 27812.32998143 27812.32998143 27812.32998143\n",
      " 27812.32998143 27812.32998143 27812.32998143 27812.32998143\n",
      " 27812.32998143 27812.32998143]\n",
      "Epoch: 750\n",
      "MSE: [26262.54623562 26262.54623562 26262.54623562 26262.54623562\n",
      " 26262.54623562 26262.54623562 26262.54623562 26262.54623562\n",
      " 26262.54623562 26262.54623562]\n",
      "Epoch: 800\n",
      "MSE: [24962.13233445 24962.13233445 24962.13233445 24962.13233445\n",
      " 24962.13233445 24962.13233445 24962.13233445 24962.13233445\n",
      " 24962.13233445 24962.13233445]\n",
      "Epoch: 850\n",
      "MSE: [23903.97960766 23903.97960766 23903.97960766 23903.97960766\n",
      " 23903.97960766 23903.97960766 23903.97960766 23903.97960766\n",
      " 23903.97960766 23903.97960766]\n",
      "Epoch: 900\n",
      "MSE: [23081.14166114 23081.14166114 23081.14166114 23081.14166114\n",
      " 23081.14166114 23081.14166114 23081.14166114 23081.14166114\n",
      " 23081.14166114 23081.14166114]\n",
      "Epoch: 950\n",
      "MSE: [22486.83095117 22486.83095117 22486.83095117 22486.83095117\n",
      " 22486.83095117 22486.83095117 22486.83095117 22486.83095117\n",
      " 22486.83095117 22486.83095117]\n",
      "[0.14262038 0.12823363 0.11659915 0.1165213  0.11022828 0.10932892\n",
      " 0.10152007 0.09609259 0.09525663 0.09016737] [ 2.46177268e-17  2.74441605e-17  2.71369678e-17  2.87526384e-17\n",
      "  2.62771396e-17  3.03762095e-17  2.70354672e-17  2.80112137e-17\n",
      "  1.73667213e-17 -1.81652267e-17]\n"
     ]
    }
   ],
   "source": [
    "def gradient_descent(m_now, b_now, points, L):\n",
    "    m_gradient = np.zeros(len(m_now))\n",
    "    b_gradient = 0\n",
    "    mse = 0\n",
    "    cmse = 0\n",
    "    n = len(points)\n",
    "    \n",
    "    for i in range(n):\n",
    "        x = points.iloc[i][: -1].values\n",
    "        y = points.iloc[i].SalePrice\n",
    "        mse += (np.dot(m_now, x) + b_now - y) ** 2\n",
    "        cmse = mse * std.SalePrice + mean.SalePrice\n",
    "        m_gradient += -(2/n) * x * (y - (m_now * x + b_now))\n",
    "        b_gradient += -(2/n) * (y - (m_now * x + b_now))\n",
    "        \n",
    "    m = m_now - m_gradient * L\n",
    "    b = b_now - b_gradient * L\n",
    "    cmse /= n\n",
    "    return m, b, cmse\n",
    "\n",
    "\n",
    "m = np.zeros(len(train.columns)-1)\n",
    "b = 0\n",
    "L = 0.0001\n",
    "cmse = 0\n",
    "epochs = 1000\n",
    "hist = []\n",
    "for i in range(epochs):\n",
    "    if i % 50 == 0:\n",
    "        print(f\"Epoch: {i}\")\n",
    "        print(f\"MSE: {cmse}\")\n",
    "    m, b, cmse = gradient_descent(m, b, train, L)   \n",
    "    hist.append(cmse)\n",
    "print(m, b)"
   ]
  },
  {
   "cell_type": "code",
   "execution_count": 28,
   "metadata": {},
   "outputs": [
    {
     "ename": "ValueError",
     "evalue": "setting an array element with a sequence. The requested array has an inhomogeneous shape after 1 dimensions. The detected shape was (1000,) + inhomogeneous part.",
     "output_type": "error",
     "traceback": [
      "\u001b[0;31m---------------------------------------------------------------------------\u001b[0m",
      "\u001b[0;31mValueError\u001b[0m                                Traceback (most recent call last)",
      "\u001b[1;32m/home/priyanshu/git/priyanshu_sharma/Multiple Linear Regressions/multiple-linear-regressions.ipynb Cell 4\u001b[0m line \u001b[0;36m3\n\u001b[1;32m      <a href='vscode-notebook-cell:/home/priyanshu/git/priyanshu_sharma/Multiple%20Linear%20Regressions/multiple-linear-regressions.ipynb#W6sZmlsZQ%3D%3D?line=0'>1</a>\u001b[0m prediction \u001b[39m=\u001b[39m [np\u001b[39m.\u001b[39mdot(m,x) \u001b[39m+\u001b[39m b \u001b[39mfor\u001b[39;00m x \u001b[39min\u001b[39;00m test\u001b[39m.\u001b[39mvalues]\n\u001b[1;32m      <a href='vscode-notebook-cell:/home/priyanshu/git/priyanshu_sharma/Multiple%20Linear%20Regressions/multiple-linear-regressions.ipynb#W6sZmlsZQ%3D%3D?line=1'>2</a>\u001b[0m real \u001b[39m=\u001b[39m test\u001b[39m.\u001b[39miloc[:, \u001b[39m-\u001b[39m\u001b[39m1\u001b[39m]\u001b[39m.\u001b[39mvalues\n\u001b[0;32m----> <a href='vscode-notebook-cell:/home/priyanshu/git/priyanshu_sharma/Multiple%20Linear%20Regressions/multiple-linear-regressions.ipynb#W6sZmlsZQ%3D%3D?line=2'>3</a>\u001b[0m plt\u001b[39m.\u001b[39;49mplot(\u001b[39mrange\u001b[39;49m(epochs), hist)\n\u001b[1;32m      <a href='vscode-notebook-cell:/home/priyanshu/git/priyanshu_sharma/Multiple%20Linear%20Regressions/multiple-linear-regressions.ipynb#W6sZmlsZQ%3D%3D?line=3'>4</a>\u001b[0m plt\u001b[39m.\u001b[39mshow()\n",
      "File \u001b[0;32m~/.local/lib/python3.11/site-packages/matplotlib/pyplot.py:3575\u001b[0m, in \u001b[0;36mplot\u001b[0;34m(scalex, scaley, data, *args, **kwargs)\u001b[0m\n\u001b[1;32m   3567\u001b[0m \u001b[39m@_copy_docstring_and_deprecators\u001b[39m(Axes\u001b[39m.\u001b[39mplot)\n\u001b[1;32m   3568\u001b[0m \u001b[39mdef\u001b[39;00m \u001b[39mplot\u001b[39m(\n\u001b[1;32m   3569\u001b[0m     \u001b[39m*\u001b[39margs: \u001b[39mfloat\u001b[39m \u001b[39m|\u001b[39m ArrayLike \u001b[39m|\u001b[39m \u001b[39mstr\u001b[39m,\n\u001b[0;32m   (...)\u001b[0m\n\u001b[1;32m   3573\u001b[0m     \u001b[39m*\u001b[39m\u001b[39m*\u001b[39mkwargs,\n\u001b[1;32m   3574\u001b[0m ) \u001b[39m-\u001b[39m\u001b[39m>\u001b[39m \u001b[39mlist\u001b[39m[Line2D]:\n\u001b[0;32m-> 3575\u001b[0m     \u001b[39mreturn\u001b[39;00m gca()\u001b[39m.\u001b[39;49mplot(\n\u001b[1;32m   3576\u001b[0m         \u001b[39m*\u001b[39;49margs,\n\u001b[1;32m   3577\u001b[0m         scalex\u001b[39m=\u001b[39;49mscalex,\n\u001b[1;32m   3578\u001b[0m         scaley\u001b[39m=\u001b[39;49mscaley,\n\u001b[1;32m   3579\u001b[0m         \u001b[39m*\u001b[39;49m\u001b[39m*\u001b[39;49m({\u001b[39m\"\u001b[39;49m\u001b[39mdata\u001b[39;49m\u001b[39m\"\u001b[39;49m: data} \u001b[39mif\u001b[39;49;00m data \u001b[39mis\u001b[39;49;00m \u001b[39mnot\u001b[39;49;00m \u001b[39mNone\u001b[39;49;00m \u001b[39melse\u001b[39;49;00m {}),\n\u001b[1;32m   3580\u001b[0m         \u001b[39m*\u001b[39;49m\u001b[39m*\u001b[39;49mkwargs,\n\u001b[1;32m   3581\u001b[0m     )\n",
      "File \u001b[0;32m~/.local/lib/python3.11/site-packages/matplotlib/axes/_axes.py:1721\u001b[0m, in \u001b[0;36mAxes.plot\u001b[0;34m(self, scalex, scaley, data, *args, **kwargs)\u001b[0m\n\u001b[1;32m   1478\u001b[0m \u001b[39m\u001b[39m\u001b[39m\"\"\"\u001b[39;00m\n\u001b[1;32m   1479\u001b[0m \u001b[39mPlot y versus x as lines and/or markers.\u001b[39;00m\n\u001b[1;32m   1480\u001b[0m \n\u001b[0;32m   (...)\u001b[0m\n\u001b[1;32m   1718\u001b[0m \u001b[39m(``'green'``) or hex strings (``'#008000'``).\u001b[39;00m\n\u001b[1;32m   1719\u001b[0m \u001b[39m\"\"\"\u001b[39;00m\n\u001b[1;32m   1720\u001b[0m kwargs \u001b[39m=\u001b[39m cbook\u001b[39m.\u001b[39mnormalize_kwargs(kwargs, mlines\u001b[39m.\u001b[39mLine2D)\n\u001b[0;32m-> 1721\u001b[0m lines \u001b[39m=\u001b[39m [\u001b[39m*\u001b[39m\u001b[39mself\u001b[39m\u001b[39m.\u001b[39m_get_lines(\u001b[39mself\u001b[39m, \u001b[39m*\u001b[39margs, data\u001b[39m=\u001b[39mdata, \u001b[39m*\u001b[39m\u001b[39m*\u001b[39mkwargs)]\n\u001b[1;32m   1722\u001b[0m \u001b[39mfor\u001b[39;00m line \u001b[39min\u001b[39;00m lines:\n\u001b[1;32m   1723\u001b[0m     \u001b[39mself\u001b[39m\u001b[39m.\u001b[39madd_line(line)\n",
      "File \u001b[0;32m~/.local/lib/python3.11/site-packages/matplotlib/axes/_base.py:303\u001b[0m, in \u001b[0;36m_process_plot_var_args.__call__\u001b[0;34m(self, axes, data, *args, **kwargs)\u001b[0m\n\u001b[1;32m    301\u001b[0m     this \u001b[39m+\u001b[39m\u001b[39m=\u001b[39m args[\u001b[39m0\u001b[39m],\n\u001b[1;32m    302\u001b[0m     args \u001b[39m=\u001b[39m args[\u001b[39m1\u001b[39m:]\n\u001b[0;32m--> 303\u001b[0m \u001b[39myield from\u001b[39;00m \u001b[39mself\u001b[39;49m\u001b[39m.\u001b[39;49m_plot_args(\n\u001b[1;32m    304\u001b[0m     axes, this, kwargs, ambiguous_fmt_datakey\u001b[39m=\u001b[39;49mambiguous_fmt_datakey)\n",
      "File \u001b[0;32m~/.local/lib/python3.11/site-packages/matplotlib/axes/_base.py:489\u001b[0m, in \u001b[0;36m_process_plot_var_args._plot_args\u001b[0;34m(self, axes, tup, kwargs, return_kwargs, ambiguous_fmt_datakey)\u001b[0m\n\u001b[1;32m    487\u001b[0m \u001b[39mif\u001b[39;00m \u001b[39mlen\u001b[39m(xy) \u001b[39m==\u001b[39m \u001b[39m2\u001b[39m:\n\u001b[1;32m    488\u001b[0m     x \u001b[39m=\u001b[39m _check_1d(xy[\u001b[39m0\u001b[39m])\n\u001b[0;32m--> 489\u001b[0m     y \u001b[39m=\u001b[39m _check_1d(xy[\u001b[39m1\u001b[39;49m])\n\u001b[1;32m    490\u001b[0m \u001b[39melse\u001b[39;00m:\n\u001b[1;32m    491\u001b[0m     x, y \u001b[39m=\u001b[39m index_of(xy[\u001b[39m-\u001b[39m\u001b[39m1\u001b[39m])\n",
      "File \u001b[0;32m~/.local/lib/python3.11/site-packages/matplotlib/cbook.py:1358\u001b[0m, in \u001b[0;36m_check_1d\u001b[0;34m(x)\u001b[0m\n\u001b[1;32m   1352\u001b[0m \u001b[39m# plot requires `shape` and `ndim`.  If passed an\u001b[39;00m\n\u001b[1;32m   1353\u001b[0m \u001b[39m# object that doesn't provide them, then force to numpy array.\u001b[39;00m\n\u001b[1;32m   1354\u001b[0m \u001b[39m# Note this will strip unit information.\u001b[39;00m\n\u001b[1;32m   1355\u001b[0m \u001b[39mif\u001b[39;00m (\u001b[39mnot\u001b[39;00m \u001b[39mhasattr\u001b[39m(x, \u001b[39m'\u001b[39m\u001b[39mshape\u001b[39m\u001b[39m'\u001b[39m) \u001b[39mor\u001b[39;00m\n\u001b[1;32m   1356\u001b[0m         \u001b[39mnot\u001b[39;00m \u001b[39mhasattr\u001b[39m(x, \u001b[39m'\u001b[39m\u001b[39mndim\u001b[39m\u001b[39m'\u001b[39m) \u001b[39mor\u001b[39;00m\n\u001b[1;32m   1357\u001b[0m         \u001b[39mlen\u001b[39m(x\u001b[39m.\u001b[39mshape) \u001b[39m<\u001b[39m \u001b[39m1\u001b[39m):\n\u001b[0;32m-> 1358\u001b[0m     \u001b[39mreturn\u001b[39;00m np\u001b[39m.\u001b[39;49matleast_1d(x)\n\u001b[1;32m   1359\u001b[0m \u001b[39melse\u001b[39;00m:\n\u001b[1;32m   1360\u001b[0m     \u001b[39mreturn\u001b[39;00m x\n",
      "File \u001b[0;32m~/.local/lib/python3.11/site-packages/numpy/core/shape_base.py:65\u001b[0m, in \u001b[0;36matleast_1d\u001b[0;34m(*arys)\u001b[0m\n\u001b[1;32m     63\u001b[0m res \u001b[39m=\u001b[39m []\n\u001b[1;32m     64\u001b[0m \u001b[39mfor\u001b[39;00m ary \u001b[39min\u001b[39;00m arys:\n\u001b[0;32m---> 65\u001b[0m     ary \u001b[39m=\u001b[39m asanyarray(ary)\n\u001b[1;32m     66\u001b[0m     \u001b[39mif\u001b[39;00m ary\u001b[39m.\u001b[39mndim \u001b[39m==\u001b[39m \u001b[39m0\u001b[39m:\n\u001b[1;32m     67\u001b[0m         result \u001b[39m=\u001b[39m ary\u001b[39m.\u001b[39mreshape(\u001b[39m1\u001b[39m)\n",
      "\u001b[0;31mValueError\u001b[0m: setting an array element with a sequence. The requested array has an inhomogeneous shape after 1 dimensions. The detected shape was (1000,) + inhomogeneous part."
     ]
    },
    {
     "data": {
      "image/png": "[encoded data removed]",
      "text/plain": [
       "<Figure size 640x480 with 1 Axes>"
      ]
     },
     "metadata": {},
     "output_type": "display_data"
    }
   ],
   "source": [
    "prediction = [np.dot(m,x) + b for x in test.values]\n",
    "real = test.iloc[:, -1].values\n",
    "plt.plot(range(epochs), hist)\n",
    "plt.show()"
   ]
  }
 ],
 "metadata": {
  "kernelspec": {
   "display_name": "Python 3",
   "language": "python",
   "name": "python3"
  },
  "language_info": {
   "codemirror_mode": {
    "name": "ipython",
    "version": 3
   },
   "file_extension": ".py",
   "mimetype": "text/x-python",
   "name": "python",
   "nbconvert_exporter": "python",
   "pygments_lexer": "ipython3",
   "version": "3.11.5"
  }
 },
 "nbformat": 4,
 "nbformat_minor": 2
}
