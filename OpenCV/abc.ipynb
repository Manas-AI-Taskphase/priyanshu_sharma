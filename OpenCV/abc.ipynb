{
 "cells": [
  {
   "cell_type": "code",
   "execution_count": 7,
   "metadata": {},
   "outputs": [],
   "source": [
    "import cv2\n",
    "\n",
    "cap = cv2.VideoCapture('./volleyball_match.mp4')\n",
    "\n",
    "object_detector = cv2.createBackgroundSubtractorMOG2()\n",
    "\n",
    "while True:\n",
    "    ret, frame = cap.read()\n",
    "\n",
    "    # extract ROI\n",
    "\n",
    "    roi = frame[0: 540, 300: 1030]\n",
    "\n",
    "    mask = object_detector.apply(frame)\n",
    "    contours, _ = cv2.findContours(mask, cv2.RETR_TREE, cv2.CHAIN_APPROX_TC89_KCOS)\n",
    "    for cnt in contours:\n",
    "        # Calculate area\n",
    "        M = cv2.moments(cnt)\n",
    "\n",
    "        area = cv2.contourArea(cnt)\n",
    "\n",
    "        if 860 < area < 10000:\n",
    "            cv2.drawContours(frame, [cnt], -1, (0, 255, 0), 2)\n",
    "            if M[\"m00\"] != 0:\n",
    "                cX = int(M[\"m10\"] / M[\"m00\"])\n",
    "                cY = int(M[\"m01\"] / M[\"m00\"])\n",
    "\n",
    "                # draw the contour and center of the shape on the image\n",
    "                cv2.drawContours(frame, [cnt], -1, (0, 255, 0), 2)\n",
    "                #cv2.circle(frame, (cX, cY), 7, (255, 255, 255), -1)\n",
    "                #cv2.putText(frame, \"center\", (cX - 20, cY - 20),\n",
    "                            #cv2.FONT_HERSHEY_SIMPLEX, 0.5, (255, 255, 255), 2)\n",
    "\n",
    "    cv2.imshow(\"roi\", roi)\n",
    "    #cv2.imshow(\"Frame\", frame)\n",
    "    cv2.imshow(\"Mask\", mask)\n",
    "\n",
    "    if cv2.waitKey(30) == ord('q'):\n",
    "        break\n",
    "\n",
    "cap.release()\n",
    "cv2.destroyAllWindows()\n"
   ]
  }
 ],
 "metadata": {
  "kernelspec": {
   "display_name": "Python 3",
   "language": "python",
   "name": "python3"
  },
  "language_info": {
   "codemirror_mode": {
    "name": "ipython",
    "version": 3
   },
   "file_extension": ".py",
   "mimetype": "text/x-python",
   "name": "python",
   "nbconvert_exporter": "python",
   "pygments_lexer": "ipython3",
   "version": "3.11.8"
  }
 },
 "nbformat": 4,
 "nbformat_minor": 2
}
