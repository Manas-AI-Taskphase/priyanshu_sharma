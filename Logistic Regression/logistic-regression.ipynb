{
 "cells": [
  {
   "cell_type": "markdown",
   "metadata": {},
   "source": [
    "### Importing Libraries"
   ]
  },
  {
   "cell_type": "code",
   "execution_count": 86,
   "metadata": {},
   "outputs": [],
   "source": [
    "import pandas as pd\n",
    "import numpy as np\n",
    "import matplotlib.pyplot as plt"
   ]
  },
  {
   "cell_type": "code",
   "execution_count": 147,
   "metadata": {},
   "outputs": [],
   "source": [
    "train = pd.read_csv('train.csv')\n",
    "test = pd.read_csv('test.csv')\n",
    "\n",
    "# For training dataset\n",
    "X = train.drop('Survived', axis = 1).drop('Name', axis = 1)\n",
    "X = X.T\n",
    "y = np.zeros(train.shape[0],)\n",
    "y = train.Survived.values.reshape(y.shape[0],1).T\n",
    "\n",
    "# For test dataset\n",
    "X_test = test.drop('Survived', axis = 1).drop('Name', axis = 1)\n",
    "X_test = X_test.T\n",
    "y_test = np.zeros(test.shape[0],)\n",
    "y_test = test.Survived.values.reshape(y_test.shape[0],1).T\n",
    "\n",
    "\n",
    "# Replacing gender with 1 and 0 to allow for normalising values later\n",
    "X = X.replace(to_replace= \"male\", value= 1).replace(to_replace= \"female\", value= 0)\n",
    "X_test = X_test.replace(to_replace= \"male\", value= 1).replace(to_replace= \"female\", value= 0)"
   ]
  },
  {
   "cell_type": "markdown",
   "metadata": {},
   "source": [
    "### Initialising the Sigmoid function"
   ]
  },
  {
   "cell_type": "code",
   "execution_count": 88,
   "metadata": {},
   "outputs": [],
   "source": [
    "def sigmoid(z):\n",
    "    return 1.0/(1 + np.exp(-z))"
   ]
  },
  {
   "cell_type": "markdown",
   "metadata": {},
   "source": [
    "### The Logistic regression model"
   ]
  },
  {
   "cell_type": "code",
   "execution_count": null,
   "metadata": {},
   "outputs": [],
   "source": [
    "def train(X, y, L, epochs):\n",
    "    \n"
   ]
  }
 ],
 "metadata": {
  "kernelspec": {
   "display_name": "Python 3",
   "language": "python",
   "name": "python3"
  },
  "language_info": {
   "codemirror_mode": {
    "name": "ipython",
    "version": 3
   },
   "file_extension": ".py",
   "mimetype": "text/x-python",
   "name": "python",
   "nbconvert_exporter": "python",
   "pygments_lexer": "ipython3",
   "version": "3.11.5"
  }
 },
 "nbformat": 4,
 "nbformat_minor": 2
}
