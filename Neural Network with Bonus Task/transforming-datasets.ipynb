{
 "cells": [
  {
   "cell_type": "markdown",
   "metadata": {},
   "source": [
    "## Transforming the image files into machine readable csv files"
   ]
  },
  {
   "cell_type": "markdown",
   "metadata": {},
   "source": [
    "#### Importing Libraries"
   ]
  },
  {
   "cell_type": "code",
   "execution_count": 7,
   "metadata": {},
   "outputs": [],
   "source": [
    "from PIL import Image\n",
    "import numpy as np\n",
    "import sys\n",
    "import os\n",
    "import csv\n",
    "import re"
   ]
  },
  {
   "cell_type": "markdown",
   "metadata": {},
   "source": [
    "#### Function to initialise file list of names of all jpg files in the directory"
   ]
  },
  {
   "cell_type": "code",
   "execution_count": 8,
   "metadata": {},
   "outputs": [],
   "source": [
    "def createFileList(myDir, format='.jpg'):\n",
    "    fileList = []\n",
    "    print(myDir)\n",
    "    for root, dirs, files in os.walk(myDir, topdown=False):\n",
    "        for name in files:\n",
    "            if name.endswith(format):\n",
    "                fullName = os.path.join(root, name)\n",
    "                fileList.append(fullName)\n",
    "    return fileList"
   ]
  },
  {
   "cell_type": "markdown",
   "metadata": {},
   "source": [
    "#### Main function that extracts pixel values for each image and stores it row wise inside the csv file"
   ]
  },
  {
   "cell_type": "code",
   "execution_count": 9,
   "metadata": {},
   "outputs": [
    {
     "name": "stdout",
     "output_type": "stream",
     "text": [
      "./train/\n",
      "./test/\n"
     ]
    }
   ],
   "source": [
    "# initialising a directories list containing the directories with data\n",
    "directories = ['./train/', './test/']\n",
    "\n",
    "for path in directories:\n",
    "    myFileList = createFileList(path)\n",
    "    csvname = path[2:-1]\n",
    "\n",
    "    header = list(np.arange(0,784))\n",
    "    header.insert(0, 'label')\n",
    "    with open(f\"{csvname}.csv\", 'a') as f:\n",
    "        writer = csv.writer(f)\n",
    "        writer.writerow(header) \n",
    "\n",
    "    for file in myFileList:\n",
    "        label = file\n",
    "        cat = re.findall('/.*/', file)\n",
    "        category = cat[0]\n",
    "        if csvname == 'train':\n",
    "            category = category[7: -1:]\n",
    "        else:\n",
    "            category = category[6: -1:]\n",
    "        # print (category)\n",
    "        map = {\n",
    "            'bart_simpson': 0,\n",
    "            'charles_montgomery_burns': 1,\n",
    "            'homer_simpson': 2,\n",
    "            'krusty_the_clown': 3,\n",
    "            'lisa_simpson': 4,\n",
    "            'marge_simpson': 5,\n",
    "            'milhouse_van_houten': 6,\n",
    "            'moe_szyslak': 7,\n",
    "            'ned_flanders': 8,\n",
    "            'principal_skinner': 9,\n",
    "        }\n",
    "            \n",
    "\n",
    "        img_file = Image.open(file)\n",
    "\n",
    "        # image params    \n",
    "        width, height = img_file.size\n",
    "        format = img_file.format\n",
    "        mode = img_file.mode\n",
    "\n",
    "        # writing the extracted data into the csv file\n",
    "        value = np.asarray(img_file.getdata(), dtype=int).reshape((img_file.size[1], img_file.size[0]))\n",
    "        value = value.flatten()\n",
    "        value = np.insert(value, 0, map[category], axis=0)\n",
    "\n",
    "        # print(value)\n",
    "        with open(f\"{csvname}.csv\", 'a') as f:\n",
    "            writer = csv.writer(f)\n",
    "            writer.writerow(value)"
   ]
  }
 ],
 "metadata": {
  "kernelspec": {
   "display_name": "Python 3",
   "language": "python",
   "name": "python3"
  },
  "language_info": {
   "codemirror_mode": {
    "name": "ipython",
    "version": 3
   },
   "file_extension": ".py",
   "mimetype": "text/x-python",
   "name": "python",
   "nbconvert_exporter": "python",
   "pygments_lexer": "ipython3",
   "version": "3.11.6"
  }
 },
 "nbformat": 4,
 "nbformat_minor": 2
}
