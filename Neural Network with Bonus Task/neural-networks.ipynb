{
 "cells": [
  {
   "cell_type": "markdown",
   "metadata": {},
   "source": [
    "# Neural Network from Scratch"
   ]
  },
  {
   "cell_type": "markdown",
   "metadata": {},
   "source": [
    "#### Importing Libraries"
   ]
  },
  {
   "cell_type": "code",
   "execution_count": 79,
   "metadata": {},
   "outputs": [],
   "source": [
    "import numpy as np\n",
    "import pandas as pd\n",
    "from matplotlib import pyplot as plt"
   ]
  },
  {
   "cell_type": "markdown",
   "metadata": {},
   "source": [
    "#### Importing the transformed dataset into the dataframe as csv"
   ]
  },
  {
   "cell_type": "code",
   "execution_count": 80,
   "metadata": {},
   "outputs": [
    {
     "data": {
      "text/html": [
       "<div>\n",
       "<style scoped>\n",
       "    .dataframe tbody tr th:only-of-type {\n",
       "        vertical-align: middle;\n",
       "    }\n",
       "\n",
       "    .dataframe tbody tr th {\n",
       "        vertical-align: top;\n",
       "    }\n",
       "\n",
       "    .dataframe thead th {\n",
       "        text-align: right;\n",
       "    }\n",
       "</style>\n",
       "<table border=\"1\" class=\"dataframe\">\n",
       "  <thead>\n",
       "    <tr style=\"text-align: right;\">\n",
       "      <th></th>\n",
       "      <th>label</th>\n",
       "      <th>0</th>\n",
       "      <th>1</th>\n",
       "      <th>2</th>\n",
       "      <th>3</th>\n",
       "      <th>4</th>\n",
       "      <th>5</th>\n",
       "      <th>6</th>\n",
       "      <th>7</th>\n",
       "      <th>8</th>\n",
       "      <th>...</th>\n",
       "      <th>774</th>\n",
       "      <th>775</th>\n",
       "      <th>776</th>\n",
       "      <th>777</th>\n",
       "      <th>778</th>\n",
       "      <th>779</th>\n",
       "      <th>780</th>\n",
       "      <th>781</th>\n",
       "      <th>782</th>\n",
       "      <th>783</th>\n",
       "    </tr>\n",
       "  </thead>\n",
       "  <tbody>\n",
       "    <tr>\n",
       "      <th>0</th>\n",
       "      <td>2</td>\n",
       "      <td>44</td>\n",
       "      <td>42</td>\n",
       "      <td>46</td>\n",
       "      <td>42</td>\n",
       "      <td>48</td>\n",
       "      <td>42</td>\n",
       "      <td>44</td>\n",
       "      <td>46</td>\n",
       "      <td>42</td>\n",
       "      <td>...</td>\n",
       "      <td>21</td>\n",
       "      <td>18</td>\n",
       "      <td>22</td>\n",
       "      <td>19</td>\n",
       "      <td>18</td>\n",
       "      <td>19</td>\n",
       "      <td>21</td>\n",
       "      <td>22</td>\n",
       "      <td>21</td>\n",
       "      <td>28</td>\n",
       "    </tr>\n",
       "    <tr>\n",
       "      <th>1</th>\n",
       "      <td>2</td>\n",
       "      <td>111</td>\n",
       "      <td>119</td>\n",
       "      <td>119</td>\n",
       "      <td>116</td>\n",
       "      <td>120</td>\n",
       "      <td>122</td>\n",
       "      <td>119</td>\n",
       "      <td>121</td>\n",
       "      <td>119</td>\n",
       "      <td>...</td>\n",
       "      <td>121</td>\n",
       "      <td>124</td>\n",
       "      <td>119</td>\n",
       "      <td>119</td>\n",
       "      <td>118</td>\n",
       "      <td>118</td>\n",
       "      <td>119</td>\n",
       "      <td>118</td>\n",
       "      <td>118</td>\n",
       "      <td>120</td>\n",
       "    </tr>\n",
       "    <tr>\n",
       "      <th>2</th>\n",
       "      <td>2</td>\n",
       "      <td>95</td>\n",
       "      <td>93</td>\n",
       "      <td>93</td>\n",
       "      <td>95</td>\n",
       "      <td>91</td>\n",
       "      <td>94</td>\n",
       "      <td>98</td>\n",
       "      <td>90</td>\n",
       "      <td>94</td>\n",
       "      <td>...</td>\n",
       "      <td>107</td>\n",
       "      <td>10</td>\n",
       "      <td>17</td>\n",
       "      <td>17</td>\n",
       "      <td>40</td>\n",
       "      <td>125</td>\n",
       "      <td>128</td>\n",
       "      <td>128</td>\n",
       "      <td>127</td>\n",
       "      <td>126</td>\n",
       "    </tr>\n",
       "    <tr>\n",
       "      <th>3</th>\n",
       "      <td>2</td>\n",
       "      <td>148</td>\n",
       "      <td>149</td>\n",
       "      <td>148</td>\n",
       "      <td>148</td>\n",
       "      <td>149</td>\n",
       "      <td>148</td>\n",
       "      <td>147</td>\n",
       "      <td>149</td>\n",
       "      <td>148</td>\n",
       "      <td>...</td>\n",
       "      <td>52</td>\n",
       "      <td>49</td>\n",
       "      <td>48</td>\n",
       "      <td>36</td>\n",
       "      <td>49</td>\n",
       "      <td>50</td>\n",
       "      <td>50</td>\n",
       "      <td>50</td>\n",
       "      <td>39</td>\n",
       "      <td>24</td>\n",
       "    </tr>\n",
       "    <tr>\n",
       "      <th>4</th>\n",
       "      <td>2</td>\n",
       "      <td>115</td>\n",
       "      <td>118</td>\n",
       "      <td>117</td>\n",
       "      <td>120</td>\n",
       "      <td>118</td>\n",
       "      <td>115</td>\n",
       "      <td>117</td>\n",
       "      <td>120</td>\n",
       "      <td>114</td>\n",
       "      <td>...</td>\n",
       "      <td>79</td>\n",
       "      <td>83</td>\n",
       "      <td>78</td>\n",
       "      <td>80</td>\n",
       "      <td>82</td>\n",
       "      <td>81</td>\n",
       "      <td>79</td>\n",
       "      <td>82</td>\n",
       "      <td>82</td>\n",
       "      <td>69</td>\n",
       "    </tr>\n",
       "  </tbody>\n",
       "</table>\n",
       "<p>5 rows × 785 columns</p>\n",
       "</div>"
      ],
      "text/plain": [
       "   label    0    1    2    3    4    5    6    7    8  ...  774  775  776  \\\n",
       "0      2   44   42   46   42   48   42   44   46   42  ...   21   18   22   \n",
       "1      2  111  119  119  116  120  122  119  121  119  ...  121  124  119   \n",
       "2      2   95   93   93   95   91   94   98   90   94  ...  107   10   17   \n",
       "3      2  148  149  148  148  149  148  147  149  148  ...   52   49   48   \n",
       "4      2  115  118  117  120  118  115  117  120  114  ...   79   83   78   \n",
       "\n",
       "   777  778  779  780  781  782  783  \n",
       "0   19   18   19   21   22   21   28  \n",
       "1  119  118  118  119  118  118  120  \n",
       "2   17   40  125  128  128  127  126  \n",
       "3   36   49   50   50   50   39   24  \n",
       "4   80   82   81   79   82   82   69  \n",
       "\n",
       "[5 rows x 785 columns]"
      ]
     },
     "execution_count": 80,
     "metadata": {},
     "output_type": "execute_result"
    }
   ],
   "source": [
    "data = pd.read_csv('train.csv')\n",
    "data.sort_values('label')\n",
    "\n",
    "data.head()"
   ]
  },
  {
   "cell_type": "markdown",
   "metadata": {},
   "source": [
    "#### Transforming data set and performing train/test split"
   ]
  },
  {
   "cell_type": "code",
   "execution_count": 108,
   "metadata": {},
   "outputs": [
    {
     "data": {
      "text/plain": [
       "array([[0.24705882, 0.44705882, 0.26666667, ..., 0.38823529, 0.4627451 ,\n",
       "        0.16470588],\n",
       "       [0.21960784, 0.43921569, 0.28627451, ..., 0.40392157, 0.46666667,\n",
       "        0.43921569],\n",
       "       [0.27843137, 0.42352941, 0.29803922, ..., 0.37647059, 0.41960784,\n",
       "        0.42352941],\n",
       "       [0.35294118, 0.4       , 0.29019608, ..., 0.38431373, 0.41960784,\n",
       "        0.39607843],\n",
       "       [0.34509804, 0.35294118, 0.25098039, ..., 0.39607843, 0.43529412,\n",
       "        0.42745098]])"
      ]
     },
     "execution_count": 108,
     "metadata": {},
     "output_type": "execute_result"
    }
   ],
   "source": [
    "data = np.array(data)\n",
    "m, n = data.shape\n",
    "np.random.shuffle(data)\n",
    "\n",
    "\n",
    "\n",
    "data_train = data.T\n",
    "X_train = data_train[1:n]\n",
    "Y_train = data_train[0]\n",
    "X_train = X_train / 255.\n",
    "_,m_train = X_train.shape\n",
    "\n",
    "X_train[0:5]"
   ]
  },
  {
   "cell_type": "markdown",
   "metadata": {},
   "source": [
    "#### Necessary functions for the task"
   ]
  },
  {
   "cell_type": "code",
   "execution_count": 82,
   "metadata": {},
   "outputs": [],
   "source": [
    "def init_params():\n",
    "    W1 = np.random.rand(10, 784) - 0.5\n",
    "    b1 = np.random.rand(10, 1) - 0.5\n",
    "    W2 = np.random.rand(10, 10) - 0.5\n",
    "    b2 = np.random.rand(10, 1) - 0.5\n",
    "    return W1, b1, W2, b2\n",
    "\n",
    "def ReLU(Z):\n",
    "    return np.maximum(Z, 0)\n",
    "\n",
    "def softmax(Z):\n",
    "    smax = np.exp(Z) / sum(np.exp(Z))\n",
    "    return smax\n",
    "\n",
    "def forward_prop(W1, b1, W2, b2, X):\n",
    "    Z1 = W1.dot(X) + b1\n",
    "    A1 = ReLU(Z1)\n",
    "    Z2 = W2.dot(A1) + b2\n",
    "    A2 = softmax(Z2)\n",
    "    return Z1, A1, Z2, A2\n",
    "\n",
    "def deriv_ReLU(Z):\n",
    "    return Z > 0\n",
    "\n",
    "def one_hot(Y):\n",
    "    one_hot_Y = np.zeros((Y.size, Y.max() +1))\n",
    "    one_hot_Y[np.arange(Y.size), Y] = 1\n",
    "    one_hot_Y = one_hot_Y.T\n",
    "    return one_hot_Y\n",
    "\n",
    "def back_prop(Z1, A1, Z2, A2, W2, X, Y):\n",
    "    one_hot_Y = one_hot(Y)\n",
    "    dZ2 = A2 - one_hot_Y\n",
    "    dW2 = 1 / m * dZ2.dot(A1.T)\n",
    "    db2 = 1 / m * np.sum(dZ2)\n",
    "    dZ1 = W2.T.dot(dZ2) * deriv_ReLU(Z1)\n",
    "    dW1 = 1 / m * dZ1.dot(X.T)\n",
    "    db1 = 1 / m * np.sum(dZ1)\n",
    "    return dW1, db1, dW2, db2\n",
    "\n",
    "def update_params(W1, b1, W2, b2, dW1, db1, dW2, db2, alpha):\n",
    "    W1 = W1 - alpha * dW1\n",
    "    b1 = b1 - alpha * db1\n",
    "    W2 = W2 - alpha * dW2\n",
    "    b2 = b2 - alpha * db2\n",
    "    return W1, b1, W2, b2  \n",
    "    "
   ]
  },
  {
   "cell_type": "markdown",
   "metadata": {},
   "source": [
    "#### Main functions"
   ]
  },
  {
   "cell_type": "code",
   "execution_count": 83,
   "metadata": {},
   "outputs": [],
   "source": [
    "def get_predictions(A2):\n",
    "    return np.argmax(A2, 0)\n",
    "\n",
    "def get_accuracy(predictions, Y):\n",
    "    print(predictions, Y)\n",
    "    return np.sum(predictions == Y) / Y.size\n",
    "\n",
    "def gradient_descent(X, Y, iterations, alpha):\n",
    "    W1, b1, W2, b2 = init_params()\n",
    "    for i in range(iterations):\n",
    "        Z1, A1, Z2, A2 = forward_prop(W1, b1, W2, b2, X)\n",
    "        dW1, db1, dW2, db2 = back_prop(Z1, A1, Z2, A2, W2, X, Y)\n",
    "        W1, b1, W2, b2 = update_params(W1, b1, W2, b2, dW1, db1, dW2, db2, alpha)\n",
    "        if i % 100000 == 0:\n",
    "            print(\"Iteration: \", i)\n",
    "            predictions = get_predictions(A2)\n",
    "            print(\"Accuracy: \", get_accuracy(predictions, Y))\n",
    "    return W1, b1, W2, b2"
   ]
  },
  {
   "cell_type": "markdown",
   "metadata": {},
   "source": [
    "#### Calling the main functions"
   ]
  },
  {
   "cell_type": "code",
   "execution_count": 84,
   "metadata": {},
   "outputs": [
    {
     "name": "stdout",
     "output_type": "stream",
     "text": [
      "Iteration:  0\n",
      "[9 9 9 ... 9 9 9] [8 5 7 ... 8 5 0]\n",
      "Accuracy:  0.098375\n"
     ]
    },
    {
     "name": "stdout",
     "output_type": "stream",
     "text": [
      "Iteration:  100000\n",
      "[7 5 9 ... 6 9 4] [8 5 7 ... 8 5 0]\n",
      "Accuracy:  0.4665\n",
      "Iteration:  200000\n",
      "[7 5 6 ... 6 9 5] [8 5 7 ... 8 5 0]\n",
      "Accuracy:  0.451875\n",
      "Iteration:  300000\n",
      "[7 5 6 ... 8 9 5] [8 5 7 ... 8 5 0]\n",
      "Accuracy:  0.490375\n",
      "Iteration:  400000\n",
      "[7 5 5 ... 8 9 4] [8 5 7 ... 8 5 0]\n",
      "Accuracy:  0.519125\n",
      "Iteration:  500000\n",
      "[2 5 8 ... 8 9 4] [8 5 7 ... 8 5 0]\n",
      "Accuracy:  0.546375\n",
      "Iteration:  600000\n",
      "[7 5 4 ... 8 9 4] [8 5 7 ... 8 5 0]\n",
      "Accuracy:  0.54725\n",
      "Iteration:  700000\n",
      "[7 5 8 ... 8 9 4] [8 5 7 ... 8 5 0]\n",
      "Accuracy:  0.5525\n",
      "Iteration:  800000\n",
      "[7 5 8 ... 8 9 4] [8 5 7 ... 8 5 0]\n",
      "Accuracy:  0.55175\n",
      "Iteration:  900000\n",
      "[8 5 8 ... 8 9 4] [8 5 7 ... 8 5 0]\n",
      "Accuracy:  0.54425\n"
     ]
    }
   ],
   "source": [
    "W1, b1, W2, b2 = gradient_descent(X_train, Y_train, 1000000, 0.1)"
   ]
  },
  {
   "cell_type": "markdown",
   "metadata": {},
   "source": [
    "#### Making Predictions and calculating accuracy using the test dataset"
   ]
  },
  {
   "cell_type": "code",
   "execution_count": 127,
   "metadata": {},
   "outputs": [
    {
     "name": "stdout",
     "output_type": "stream",
     "text": [
      "785 2000\n"
     ]
    },
    {
     "data": {
      "text/plain": [
       "array([[  6,   7,   9, ...,   5,   7,   0],\n",
       "       [187,  23, 195, ..., 107,  70, 144],\n",
       "       [178,  24, 188, ..., 112,  65, 145],\n",
       "       ...,\n",
       "       [184,  45,  75, ..., 135,  95,  75],\n",
       "       [180,  44,  69, ..., 136,  94,  75],\n",
       "       [176,  23,  74, ..., 129,  83,  75]])"
      ]
     },
     "execution_count": 127,
     "metadata": {},
     "output_type": "execute_result"
    }
   ],
   "source": [
    "data_test = pd.read_csv('test.csv')\n",
    "data_test = np.array(data_test)\n",
    "np.random.shuffle(data_test)\n",
    "data_test = data_test.T\n",
    "j, k = data_test.shape\n",
    "print (j,k)\n",
    "Y_test = data_test[0]\n",
    "X_test = data_test[1:k]\n",
    "X_test = X_test / 255.\n",
    "\n",
    "\n",
    "def make_predictions(X, W1, b1, W2, b2):\n",
    "    _, _, _, A2 = forward_prop(W1, b1, W2, b2, X)\n",
    "    predictions = get_predictions(A2)\n",
    "    return predictions\n",
    "\n",
    "def test_prediction(index, W1, b1, W2, b2):\n",
    "    map = {\n",
    "        0: 'bart simpson',\n",
    "        1: 'charles montgomery_burns',\n",
    "        2: 'homer simpson',\n",
    "        3: 'krusty the clown',\n",
    "        4: 'lisa simpson',\n",
    "        5: 'marge simpson',\n",
    "        6: 'milhouse van houten',\n",
    "        7: 'moe szyslak',\n",
    "        8: 'ned flanders',\n",
    "        9: 'principal skinner'\n",
    "    }\n",
    "    \n",
    "    current_image = X_test[:, index, None]\n",
    "    prediction = make_predictions(X_test[:, index, None], W1, b1, W2, b2)\n",
    "    label = Y_test[index]\n",
    "    print(\"Prediction: \", map[prediction[0]])\n",
    "    print(\"Label: \", map[label])\n",
    "    \n",
    "    current_image = current_image.reshape((28, 28)) * 255\n",
    "    plt.gray()\n",
    "    plt.imshow(current_image, interpolation='nearest')\n",
    "    plt.show()\n",
    "\n",
    "data_test"
   ]
  },
  {
   "cell_type": "code",
   "execution_count": 128,
   "metadata": {},
   "outputs": [
    {
     "name": "stdout",
     "output_type": "stream",
     "text": [
      "Prediction:  milhouse van houten\n",
      "Label:  milhouse van houten\n"
     ]
    },
    {
     "data": {
      "image/png": "[encoded data removed]",
      "text/plain": [
       "<Figure size 640x480 with 1 Axes>"
      ]
     },
     "metadata": {},
     "output_type": "display_data"
    },
    {
     "name": "stdout",
     "output_type": "stream",
     "text": [
      "Prediction:  krusty the clown\n",
      "Label:  moe szyslak\n"
     ]
    },
    {
     "data": {
      "image/png": "[encoded data removed]",
      "text/plain": [
       "<Figure size 640x480 with 1 Axes>"
      ]
     },
     "metadata": {},
     "output_type": "display_data"
    },
    {
     "name": "stdout",
     "output_type": "stream",
     "text": [
      "Prediction:  principal skinner\n",
      "Label:  principal skinner\n"
     ]
    },
    {
     "data": {
      "image/png": "[encoded data removed]",
      "text/plain": [
       "<Figure size 640x480 with 1 Axes>"
      ]
     },
     "metadata": {},
     "output_type": "display_data"
    },
    {
     "name": "stdout",
     "output_type": "stream",
     "text": [
      "Prediction:  charles montgomery_burns\n",
      "Label:  bart simpson\n"
     ]
    },
    {
     "data": {
      "image/png": "[encoded data removed]",
      "text/plain": [
       "<Figure size 640x480 with 1 Axes>"
      ]
     },
     "metadata": {},
     "output_type": "display_data"
    }
   ],
   "source": [
    "test_prediction(0, W1, b1, W2, b2)\n",
    "test_prediction(1, W1, b1, W2, b2)\n",
    "test_prediction(2, W1, b1, W2, b2)\n",
    "test_prediction(3, W1, b1, W2, b2)"
   ]
  },
  {
   "cell_type": "code",
   "execution_count": 129,
   "metadata": {},
   "outputs": [
    {
     "name": "stdout",
     "output_type": "stream",
     "text": [
      "[6 3 9 ... 4 4 8] [6 7 9 ... 5 7 0]\n"
     ]
    }
   ],
   "source": [
    "test_predictions = make_predictions(X_test, W1, b1, W2, b2)\n",
    "accuracy = get_accuracy(test_predictions, Y_test)\n",
    "\n"
   ]
  },
  {
   "cell_type": "markdown",
   "metadata": {},
   "source": [
    "#### Displaying the accuracy"
   ]
  },
  {
   "cell_type": "code",
   "execution_count": 130,
   "metadata": {},
   "outputs": [
    {
     "name": "stdout",
     "output_type": "stream",
     "text": [
      "Accuracy:  0.2095\n"
     ]
    }
   ],
   "source": [
    "print(\"Accuracy: \",accuracy)"
   ]
  },
  {
   "cell_type": "markdown",
   "metadata": {},
   "source": [
    "# Bonus Task"
   ]
  },
  {
   "cell_type": "code",
   "execution_count": 134,
   "metadata": {},
   "outputs": [
    {
     "data": {
      "text/plain": [
       "array([[0.01176471, 0.        , 0.        , ..., 0.        , 0.00784314,\n",
       "        0.        ],\n",
       "       [0.01568627, 0.03921569, 0.03137255, ..., 0.04705882, 0.00392157,\n",
       "        0.01176471],\n",
       "       [0.02745098, 0.        , 0.00784314, ..., 0.        , 0.        ,\n",
       "        0.00784314],\n",
       "       ...,\n",
       "       [0.        , 0.00784314, 0.        , ..., 0.        , 0.        ,\n",
       "        0.        ],\n",
       "       [0.        , 0.        , 0.        , ..., 0.        , 0.        ,\n",
       "        0.        ],\n",
       "       [0.        , 0.        , 0.        , ..., 0.        , 0.        ,\n",
       "        0.        ]])"
      ]
     },
     "execution_count": 134,
     "metadata": {},
     "output_type": "execute_result"
    }
   ],
   "source": [
    "X_bonus = pd.read_csv('bonus/bonus.csv')\n",
    "X_bonus = np.array(X_bonus)\n",
    "np.random.shuffle(X_bonus)\n",
    "X_bonus = X_bonus.T\n",
    "\n",
    "# X_bonus = data_bonus\n",
    "X_bonus = X_bonus / 255.\n",
    "\n",
    "def make_predictions(X, W1, b1, W2, b2):\n",
    "    _, _, _, A2 = forward_prop(W1, b1, W2, b2, X)\n",
    "    predictions = get_predictions(A2)\n",
    "    return predictions\n",
    "\n",
    "def bonus_prediction(index, W1, b1, W2, b2):\n",
    "    map = {\n",
    "        0: 'bart simpson',\n",
    "        1: 'charles montgomery_burns',\n",
    "        2: 'homer simpson',\n",
    "        3: 'krusty the clown',\n",
    "        4: 'lisa simpson',\n",
    "        5: 'marge simpson',\n",
    "        6: 'milhouse van houten',\n",
    "        7: 'moe szyslak',\n",
    "        8: 'ned flanders',\n",
    "        9: 'principal skinner'\n",
    "    }\n",
    "    \n",
    "    current_image = X_bonus[:, index, None]\n",
    "    prediction = make_predictions(X_bonus[:, index, None], W1, b1, W2, b2)\n",
    "    print(\"Prediction: \", map[prediction[0]])\n",
    "    \n",
    "    current_image = current_image.reshape((28, 28)) * 255\n",
    "    plt.gray()\n",
    "    plt.imshow(current_image, interpolation='nearest')\n",
    "    plt.show()\n",
    "\n",
    "#data_bonus\n",
    "X_bonus"
   ]
  },
  {
   "cell_type": "code",
   "execution_count": 135,
   "metadata": {},
   "outputs": [
    {
     "name": "stdout",
     "output_type": "stream",
     "text": [
      "Prediction:  lisa simpson\n"
     ]
    },
    {
     "data": {
      "image/png": "[encoded data removed]",
      "text/plain": [
       "<Figure size 640x480 with 1 Axes>"
      ]
     },
     "metadata": {},
     "output_type": "display_data"
    },
    {
     "name": "stdout",
     "output_type": "stream",
     "text": [
      "Prediction:  lisa simpson\n"
     ]
    },
    {
     "data": {
      "image/png": "[encoded data removed]",
      "text/plain": [
       "<Figure size 640x480 with 1 Axes>"
      ]
     },
     "metadata": {},
     "output_type": "display_data"
    },
    {
     "name": "stdout",
     "output_type": "stream",
     "text": [
      "Prediction:  principal skinner\n"
     ]
    },
    {
     "data": {
      "image/png": "[encoded data removed]",
      "text/plain": [
       "<Figure size 640x480 with 1 Axes>"
      ]
     },
     "metadata": {},
     "output_type": "display_data"
    },
    {
     "name": "stdout",
     "output_type": "stream",
     "text": [
      "Prediction:  lisa simpson\n"
     ]
    },
    {
     "data": {
      "image/png": "[encoded data removed]",
      "text/plain": [
       "<Figure size 640x480 with 1 Axes>"
      ]
     },
     "metadata": {},
     "output_type": "display_data"
    }
   ],
   "source": [
    "bonus_prediction(0, W1, b1, W2, b2)\n",
    "bonus_prediction(1, W1, b1, W2, b2)\n",
    "bonus_prediction(2, W1, b1, W2, b2)\n",
    "bonus_prediction(3, W1, b1, W2, b2)"
   ]
  }
 ],
 "metadata": {
  "kernelspec": {
   "display_name": "Python 3",
   "language": "python",
   "name": "python3"
  },
  "language_info": {
   "codemirror_mode": {
    "name": "ipython",
    "version": 3
   },
   "file_extension": ".py",
   "mimetype": "text/x-python",
   "name": "python",
   "nbconvert_exporter": "python",
   "pygments_lexer": "ipython3",
   "version": "3.11.6"
  }
 },
 "nbformat": 4,
 "nbformat_minor": 2
}
